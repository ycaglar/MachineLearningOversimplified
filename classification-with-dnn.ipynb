{
 "cells": [
  {
   "cell_type": "markdown",
   "id": "7fb648f4",
   "metadata": {},
   "source": [
    "## Classification With Deep Neural Networks"
   ]
  },
  {
   "cell_type": "markdown",
   "id": "7ce456f8",
   "metadata": {},
   "source": [
    "### Install TensorFlow\n",
    "Commands starting with `!` will run on the terminal instead of being executed as a notebook shell"
   ]
  },
  {
   "cell_type": "code",
   "execution_count": null,
   "id": "6d9ce1f1",
   "metadata": {},
   "outputs": [],
   "source": [
    "!pip3 install tensorflow"
   ]
  },
  {
   "cell_type": "markdown",
   "id": "5e885f78",
   "metadata": {},
   "source": [
    "### Import TensorFlow\n",
    "Select the latest version of TensorFlow or pass to load whatever is available."
   ]
  },
  {
   "cell_type": "code",
   "execution_count": null,
   "id": "ca860683",
   "metadata": {},
   "outputs": [],
   "source": [
    "try:\n",
    "  # %tensorflow_version only exists in Colab.\n",
    "  %tensorflow_version 2.x\n",
    "except Exception:\n",
    "  pass\n",
    "import tensorflow as tf"
   ]
  },
  {
   "cell_type": "markdown",
   "id": "51f5dd31",
   "metadata": {},
   "source": [
    "### Load the Data\n",
    "Load the Fashion MNIST dataset"
   ]
  },
  {
   "cell_type": "code",
   "execution_count": null,
   "id": "90f6ef95",
   "metadata": {},
   "outputs": [],
   "source": [
    "mnist = tf.keras.datasets.fashion_mnist\n",
    "# split data as training and test\n",
    "(training_images, training_labels), (test_images, test_labels) = mnist.load_data()"
   ]
  },
  {
   "cell_type": "markdown",
   "id": "943fb2d6",
   "metadata": {},
   "source": [
    "### Normalize the data\n",
    "\n",
    "Neural Networks learn best when the data is scaled/normalized to fall in a constant range. One practitioners often use is the range [0,1]. Because fashion mnist dataset images are in RGB format which means they are arrays of arrays of values between 0 and 255, by dividing the entire list by 255, we change the range from 0, 255 to 0, 1"
   ]
  },
  {
   "cell_type": "code",
   "execution_count": null,
   "id": "9796be00",
   "metadata": {},
   "outputs": [],
   "source": [
    "training_images = training_images / 255.0\n",
    "test_images = test_images / 255.0"
   ]
  },
  {
   "cell_type": "markdown",
   "id": "64c94fb0",
   "metadata": {},
   "source": [
    "### Define the model"
   ]
  },
  {
   "cell_type": "code",
   "execution_count": null,
   "id": "bef825ad",
   "metadata": {},
   "outputs": [],
   "source": [
    "# input shape is 28 by 28 because mnist dataset images are 28x28\n",
    "model = tf.keras.models.Sequential([\n",
    "  tf.keras.layers.Flatten(input_shape = (28,28)),\n",
    "  # tf.nn.relu could be passed as 'relu' as well\n",
    "  tf.keras.layers.Dense(512, activation = tf.nn.relu),\n",
    "  # adding additional layers works better instead of increasing neuron count in one layer\n",
    "  tf.keras.layers.Dense(512, activation = tf.nn.relu),\n",
    "  # the last layer has 10 neurons because there are 10 different classes in mnist dataset\n",
    "  tf.keras.layers.Dense(10, activation = tf.nn.softmax)\n",
    "])"
   ]
  },
  {
   "cell_type": "markdown",
   "id": "9be27d63",
   "metadata": {},
   "source": [
    "### Compile, train and evaluate the model"
   ]
  },
  {
   "cell_type": "code",
   "execution_count": null,
   "id": "84143d04",
   "metadata": {},
   "outputs": [],
   "source": [
    "# compile the model\n",
    "model.compile(\n",
    "  optimizer = tf.keras.optimizers.Adam(),\n",
    "  loss = 'sparse_categorical_crossentropy',\n",
    "  metrics = ['accuracy']\n",
    ")\n",
    "\n",
    "# fit the model to the training data\n",
    "model.fit(training_images, training_labels, epochs = 5)\n",
    "\n",
    "# test the model on the test data\n",
    "model.evaluate(test_images, test_labels)"
   ]
  },
  {
   "cell_type": "markdown",
   "id": "1f1bfa85",
   "metadata": {},
   "source": [
    "Training (fitting) and evaluating could also be done in one command instead of two as follows"
   ]
  },
  {
   "cell_type": "code",
   "execution_count": null,
   "id": "3b20dd92",
   "metadata": {},
   "outputs": [],
   "source": [
    "# model.fit(training_images, training_labels, validation_data = (test_images, test_labels), epochs = 5)"
   ]
  },
  {
   "cell_type": "markdown",
   "id": "17a3c6b0",
   "metadata": {},
   "source": [
    "### Train with a custom callback function\n",
    "\n",
    "It is possible to exit the training sequence, once a certain condition is satisfied, in order to avoid overfitting. In the following example, `customCallback` class will terminate the training process after `accuracy` reaches %86"
   ]
  },
  {
   "cell_type": "code",
   "execution_count": null,
   "id": "4650839c",
   "metadata": {},
   "outputs": [],
   "source": [
    "# define custom Callback\n",
    "class customCallback(tf.keras.callbacks.Callback):\n",
    "  def on_epoch_end(self, epoch, logs={}):\n",
    "    if(logs.get('accuracy')>0.86):\n",
    "      self.model.stop_training = True\n",
    "\n",
    "# re-compile, re-fit and re-evaluate\n",
    "model = tf.keras.models.Sequential([\n",
    "  tf.keras.layers.Flatten(input_shape = (28,28)),\n",
    "  tf.keras.layers.Dense(512, activation = tf.nn.relu),\n",
    "  tf.keras.layers.Dense(512, activation = tf.nn.relu),\n",
    "  tf.keras.layers.Dense(10, activation = tf.nn.softmax)\n",
    "])\n",
    "\n",
    "model.compile(\n",
    "  optimizer = tf.keras.optimizers.Adam(),\n",
    "  loss = 'sparse_categorical_crossentropy',\n",
    "  metrics = ['accuracy']\n",
    ")\n",
    "\n",
    "model.fit(\n",
    "  training_images, \n",
    "  training_labels, \n",
    "  validation_data = (test_images, test_labels), \n",
    "  epochs = 5, \n",
    "  callbacks = [customCallback()]\n",
    ")"
   ]
  }
 ],
 "metadata": {
  "kernelspec": {
   "display_name": "Python 3 (ipykernel)",
   "language": "python",
   "name": "python3"
  },
  "language_info": {
   "codemirror_mode": {
    "name": "ipython",
    "version": 3
   },
   "file_extension": ".py",
   "mimetype": "text/x-python",
   "name": "python",
   "nbconvert_exporter": "python",
   "pygments_lexer": "ipython3",
   "version": "3.7.11"
  }
 },
 "nbformat": 4,
 "nbformat_minor": 5
}
